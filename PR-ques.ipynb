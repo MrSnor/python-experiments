{
 "cells": [
  {
   "cell_type": "code",
   "execution_count": 1,
   "metadata": {},
   "outputs": [
    {
     "name": "stdout",
     "output_type": "stream",
     "text": [
      "34\n"
     ]
    }
   ],
   "source": [
    "print(34)"
   ]
  },
  {
   "cell_type": "code",
   "execution_count": 2,
   "metadata": {},
   "outputs": [
    {
     "data": {
      "image/png": "[encoded data removed]",
      "text/plain": [
       "<Figure size 640x480 with 1 Axes>"
      ]
     },
     "metadata": {},
     "output_type": "display_data"
    }
   ],
   "source": [
    "import numpy as np\n",
    "import matplotlib.pyplot as plt\n",
    "from scipy.stats import multivariate_normal\n",
    "\n",
    "# Given data\n",
    "X1 = np.array([[2, -2], [4, -4], [4, 0], [6, -2]])\n",
    "X2 = np.array([[2, 6], [4, 4], [4, 8], [6, 6]])\n",
    "P_w1 = 0.5\n",
    "P_w2 = 0.5\n",
    "cov_matrix = np.array([[8/3, 0], [0, 8/3]])\n",
    "\n",
    "# Calculate the mean vectors for each class\n",
    "mean_w1 = np.mean(X1, axis=0)\n",
    "mean_w2 = np.mean(X2, axis=0)\n",
    "\n",
    "# Create multivariate normal distributions for each class\n",
    "mvn_w1 = multivariate_normal(mean=mean_w1, cov=cov_matrix)\n",
    "mvn_w2 = multivariate_normal(mean=mean_w2, cov=cov_matrix)\n",
    "\n",
    "# Define the decision boundary function\n",
    "def decision_boundary(x):\n",
    "    return np.log(P_w1 * mvn_w1.pdf(x)) - np.log(P_w2 * mvn_w2.pdf(x))\n",
    "\n",
    "# Create a grid of points for visualization\n",
    "x_vals = np.linspace(-10, 10, 100)\n",
    "y_vals = np.linspace(-10, 10, 100)\n",
    "X_grid, Y_grid = np.meshgrid(x_vals, y_vals)\n",
    "Z = np.zeros_like(X_grid)\n",
    "\n",
    "# Calculate decision boundary values\n",
    "for i in range(X_grid.shape[0]):\n",
    "    for j in range(X_grid.shape[1]):\n",
    "        Z[i, j] = decision_boundary([X_grid[i, j], Y_grid[i, j]])\n",
    "\n",
    "# Plot the decision boundary\n",
    "plt.contour(X_grid, Y_grid, Z, levels=[0], colors='r', linestyles='dashed')\n",
    "plt.scatter(X1[:, 0], X1[:, 1], label='Class ω1', marker='o')\n",
    "plt.scatter(X2[:, 0], X2[:, 1], label='Class ω2', marker='x')\n",
    "plt.xlabel('x1')\n",
    "plt.ylabel('x2')\n",
    "plt.title('Decision Boundary')\n",
    "plt.legend()\n",
    "plt.grid(True)\n",
    "plt.show()"
   ]
  },
  {
   "cell_type": "code",
   "execution_count": 2,
   "metadata": {},
   "outputs": [
    {
     "ename": "TypeError",
     "evalue": "%d format: a real number is required, not Add",
     "output_type": "error",
     "traceback": [
      "\u001b[1;31m---------------------------------------------------------------------------\u001b[0m",
      "\u001b[1;31mTypeError\u001b[0m                                 Traceback (most recent call last)",
      "Cell \u001b[1;32mIn[2], line 5\u001b[0m\n\u001b[0;32m      3\u001b[0m \u001b[38;5;66;03m# Define the variables\u001b[39;00m\n\u001b[0;32m      4\u001b[0m d \u001b[38;5;241m=\u001b[39m sp\u001b[38;5;241m.\u001b[39mSymbol(\u001b[38;5;124m'\u001b[39m\u001b[38;5;124md\u001b[39m\u001b[38;5;124m'\u001b[39m)\n\u001b[1;32m----> 5\u001b[0m X \u001b[38;5;241m=\u001b[39m sp\u001b[38;5;241m.\u001b[39mMatrix(sp\u001b[38;5;241m.\u001b[39msymbols(\u001b[38;5;124;43m'\u001b[39;49m\u001b[38;5;124;43mx1:\u001b[39;49m\u001b[38;5;132;43;01m%d\u001b[39;49;00m\u001b[38;5;124;43m'\u001b[39;49m\u001b[43m \u001b[49m\u001b[38;5;241;43m%\u001b[39;49m\u001b[43m \u001b[49m\u001b[43m(\u001b[49m\u001b[43md\u001b[49m\u001b[43m \u001b[49m\u001b[38;5;241;43m+\u001b[39;49m\u001b[43m \u001b[49m\u001b[38;5;241;43m1\u001b[39;49m\u001b[43m)\u001b[49m))\n\u001b[0;32m      6\u001b[0m mu \u001b[38;5;241m=\u001b[39m sp\u001b[38;5;241m.\u001b[39mMatrix(sp\u001b[38;5;241m.\u001b[39msymbols(\u001b[38;5;124m'\u001b[39m\u001b[38;5;124mmu1:\u001b[39m\u001b[38;5;132;01m%d\u001b[39;00m\u001b[38;5;124m'\u001b[39m \u001b[38;5;241m%\u001b[39m (d \u001b[38;5;241m+\u001b[39m \u001b[38;5;241m1\u001b[39m)))\n\u001b[0;32m      7\u001b[0m sigma \u001b[38;5;241m=\u001b[39m sp\u001b[38;5;241m.\u001b[39mMatrix(sp\u001b[38;5;241m.\u001b[39msymbols(\u001b[38;5;124m'\u001b[39m\u001b[38;5;124msigma1:\u001b[39m\u001b[38;5;132;01m%d\u001b[39;00m\u001b[38;5;124m'\u001b[39m \u001b[38;5;241m%\u001b[39m (d \u001b[38;5;241m+\u001b[39m \u001b[38;5;241m1\u001b[39m)))\n",
      "\u001b[1;31mTypeError\u001b[0m: %d format: a real number is required, not Add"
     ]
    }
   ],
   "source": [
    "import sympy as sp\n",
    "\n",
    "# Define the variables\n",
    "d = sp.Symbol('d')\n",
    "X = sp.Matrix(sp.symbols('x1:%d' % (d + 1)))\n",
    "mu = sp.Matrix(sp.symbols('mu1:%d' % (d + 1)))\n",
    "sigma = sp.Matrix(sp.symbols('sigma1:%d' % (d + 1)))\n",
    "\n",
    "# Define the multivariate normal density\n",
    "pdf = 1 / (sp.prod(sp.sqrt(2 * sp.pi * sigma))) * sp.exp(-0.5 * sp.summation(((X[i] - mu[i]) / sigma[i])**2, (i, 0, d - 1)))\n",
    "\n",
    "# Print the result\n",
    "print(f\"The evidence p(X) is:\\n{pdf}\")\n",
    "\n"
   ]
  },
  {
   "cell_type": "code",
   "execution_count": 1,
   "metadata": {},
   "outputs": [
    {
     "name": "stdout",
     "output_type": "stream",
     "text": [
      "Evidence for the given data point: 0.011319\n",
      "Mahalanobis distance from the data point to the mean: 0.520416\n"
     ]
    }
   ],
   "source": [
    "import numpy as np\n",
    "from scipy.linalg import inv, det\n",
    "\n",
    "def multivariate_normal_density(X, mu, sigma):\n",
    "    \"\"\"\n",
    "    Calculates the evidence (probability density) of a multivariate normal distribution.\n",
    "\n",
    "    Args:\n",
    "        X (np.ndarray): Data point (d-dimensional vector).\n",
    "        mu (np.ndarray): Mean vector (d-dimensional).\n",
    "        sigma (np.ndarray): Diagonal covariance matrix (d x d).\n",
    "\n",
    "    Returns:\n",
    "        float: Evidence (probability density).\n",
    "    \"\"\"\n",
    "    d = len(X)\n",
    "    det_sigma = np.prod(sigma)\n",
    "    inv_sigma = inv(np.diag(sigma))\n",
    "    exponent = -0.5 * np.dot(np.dot((X - mu).T, inv_sigma), (X - mu))\n",
    "    prefactor = 1 / ((2 * np.pi) ** (d / 2) * np.sqrt(det_sigma))\n",
    "    return prefactor * np.exp(exponent)\n",
    "\n",
    "def mahalanobis_distance(X, mu, sigma):\n",
    "    \"\"\"\n",
    "    Calculates the Mahalanobis distance from X to mu.\n",
    "\n",
    "    Args:\n",
    "        X (np.ndarray): Data point (d-dimensional vector).\n",
    "        mu (np.ndarray): Mean vector (d-dimensional).\n",
    "        sigma (np.ndarray): Diagonal covariance matrix (d x d).\n",
    "\n",
    "    Returns:\n",
    "        float: Mahalanobis distance.\n",
    "    \"\"\"\n",
    "    d = len(X)\n",
    "    inv_sigma = inv(np.diag(sigma))\n",
    "    return np.sqrt(np.sum(((X - mu) / np.sqrt(sigma)) ** 2))\n",
    "\n",
    "# Example usage:\n",
    "mean_vector = np.array([1, 2, 3])\n",
    "covariance_matrix = np.array([2, 3, 4])  # Diagonal covariance matrix\n",
    "data_point = np.array([0.5, 1.5, 2.5])\n",
    "\n",
    "# Calculate evidence\n",
    "evidence = multivariate_normal_density(data_point, mean_vector, covariance_matrix)\n",
    "print(f\"Evidence for the given data point: {evidence:.6f}\")\n",
    "\n",
    "# Calculate Mahalanobis distance\n",
    "mahalanobis_dist = mahalanobis_distance(data_point, mean_vector, covariance_matrix)\n",
    "print(f\"Mahalanobis distance from the data point to the mean: {mahalanobis_dist:.6f}\")"
   ]
  }
 ],
 "metadata": {
  "kernelspec": {
   "display_name": ".venv",
   "language": "python",
   "name": "python3"
  },
  "language_info": {
   "codemirror_mode": {
    "name": "ipython",
    "version": 3
   },
   "file_extension": ".py",
   "mimetype": "text/x-python",
   "name": "python",
   "nbconvert_exporter": "python",
   "pygments_lexer": "ipython3",
   "version": "3.12.3"
  }
 },
 "nbformat": 4,
 "nbformat_minor": 2
}
